{
 "cells": [
  {
   "cell_type": "code",
   "execution_count": null,
   "id": "pleasant-howard",
   "metadata": {},
   "outputs": [],
   "source": [
    "#!pip install climetlab\n",
    "#!pip install climetlab_wekeo_source\n",
    "#!pip install climetlab_wekeo_mercator"
   ]
  },
  {
   "cell_type": "code",
   "execution_count": null,
   "id": "arabic-sally",
   "metadata": {},
   "outputs": [],
   "source": [
    "import climetlab as cml\n",
    "\n",
    "from dask.distributed import Client\n",
    "\n",
    "# Instantiate a default Dask distributed client to handle data\n",
    "client = Client()"
   ]
  },
  {
   "cell_type": "code",
   "execution_count": null,
   "id": "e759482d",
   "metadata": {},
   "outputs": [],
   "source": [
    "# For single-layered dataset, a default layer value is provided\n",
    "cmlds = cml.load_dataset(\n",
    "    \"wekeo-mercator-sst-glo-sst-l4-rep-observations\", \n",
    "    area=[30,-30,-30,-30], \n",
    "    end=\"1981-11-01\", \n",
    "    variables=\"analysed_sst\"\n",
    ")"
   ]
  },
  {
   "cell_type": "code",
   "execution_count": null,
   "id": "498c1f6e",
   "metadata": {},
   "outputs": [],
   "source": [
    "# Create a single xarray dataset from the downloaded products\n",
    "array = cmlds.to_xarray()"
   ]
  },
  {
   "cell_type": "code",
   "execution_count": null,
   "id": "c320f249",
   "metadata": {},
   "outputs": [],
   "source": [
    "# Plot sample\n",
    "array.analysed_sst.isel(time=1).plot(x=\"lon\", y=\"lat\", col_wrap=3)"
   ]
  },
  {
   "cell_type": "code",
   "execution_count": null,
   "id": "affiliated-binding",
   "metadata": {},
   "outputs": [],
   "source": [
    "# For multi-layered dataset, a layer value MUST be provided.\n",
    "# Available values can be inspected directly in the python module.\n",
    "ml_cmlds = cml.load_dataset(\n",
    "    \"wekeo-mercator-arctic-analysis-forecast-phys\", \n",
    "    layer=\"dataset-topaz4-arc-1hr-myoceanv2-be\", \n",
    "    area=[30,-30,-30,-30], \n",
    "    end=\"2018-01-10\"\n",
    ")"
   ]
  },
  {
   "cell_type": "code",
   "execution_count": null,
   "id": "18ed3460",
   "metadata": {},
   "outputs": [],
   "source": [
    "array = ml_cmlds.to_xarray()"
   ]
  },
  {
   "cell_type": "code",
   "execution_count": null,
   "id": "boring-bryan",
   "metadata": {},
   "outputs": [],
   "source": [
    "array.salinity.isel(time=1).plot()"
   ]
  },
  {
   "cell_type": "code",
   "execution_count": null,
   "id": "e22a1a2d",
   "metadata": {},
   "outputs": [],
   "source": [
    "client.shutdown()"
   ]
  }
 ],
 "metadata": {
  "kernelspec": {
   "display_name": "Python 3",
   "language": "python",
   "name": "python3"
  },
  "language_info": {
   "codemirror_mode": {
    "name": "ipython",
    "version": 3
   },
   "file_extension": ".py",
   "mimetype": "text/x-python",
   "name": "python",
   "nbconvert_exporter": "python",
   "pygments_lexer": "ipython3",
   "version": "3.10.11"
  }
 },
 "nbformat": 4,
 "nbformat_minor": 5
}
